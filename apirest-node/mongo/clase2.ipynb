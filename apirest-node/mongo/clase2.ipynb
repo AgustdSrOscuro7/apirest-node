{
 "cells": [
  {
   "attachments": {},
   "cell_type": "markdown",
   "metadata": {},
   "source": [
    "https://jarroba.com/python-mongodb-driver-pymongo-con-ejemplos/ "
   ]
  },
  {
   "cell_type": "code",
   "execution_count": 1,
   "metadata": {},
   "outputs": [],
   "source": [
    "#pip install pymongo\n"
   ]
  },
  {
   "cell_type": "code",
   "execution_count": 2,
   "metadata": {},
   "outputs": [],
   "source": [
    "from pymongo import MongoClient\n"
   ]
  },
  {
   "cell_type": "code",
   "execution_count": 3,
   "metadata": {},
   "outputs": [],
   "source": [
    "class Futbolista:\n",
    "\n",
    "    def __init__(self, nombre: str, apellidos: str, edad: int, internacional: bool):\n",
    "        self.nombre = nombre\n",
    "        self.apellidos = apellidos\n",
    "        self.edad = edad\n",
    "        self.internacional = internacional\n",
    "\n",
    "    def toDBCollection(self):\n",
    "        return {\n",
    "            \"nombre\": self.nombre,\n",
    "            \"apellidos\": self.apellidos,\n",
    "            \"edad\": self.edad,\n",
    "            \"internacional\": self.internacional\n",
    "        }\n",
    "\n",
    "    def __str__(self):\n",
    "        return f\"Nombre: {self.nombre} - Apellidos: {self.apellidos} - Edad: {self.edad} - Internacional: {self.internacional}\"\n"
   ]
  },
  {
   "cell_type": "code",
   "execution_count": 4,
   "metadata": {},
   "outputs": [],
   "source": [
    "# Creo una lista de objetos futbolista a insertar en la BD\n",
    "futbolistas = [\n",
    "    Futbolista('Iker','Casillas',33, True),\n",
    "    Futbolista('Carles','Puyol',36,False),\n",
    "    Futbolista('Sergio','Ramos',28,True),\n",
    "    Futbolista('Andrés','Iniesta',30,True),\n",
    "    Futbolista('Fernando','Torres',30,True),\n",
    "    Futbolista('Leo','Baptistao',22,False),\n",
    "    Futbolista('Juan','Baptistao',22,False),\n",
    "    Futbolista('diego','Baptistao',22,False),\n",
    "    Futbolista('camilo','Baptistao',22,False),\n",
    "    Futbolista('Espin','Baptistao',22,False),\n",
    "    Futbolista('Diego','Baptistao',22,False),\n",
    "]\n",
    "\n",
    "\n"
   ]
  },
  {
   "cell_type": "code",
   "execution_count": 5,
   "metadata": {},
   "outputs": [
    {
     "name": "stdout",
     "output_type": "stream",
     "text": [
      "bad auth : authentication failed, full error: {'ok': 0, 'errmsg': 'bad auth : authentication failed', 'code': 8000, 'codeName': 'AtlasError'}\n"
     ]
    }
   ],
   "source": [
    "# PASO 1: Conexión al Server de MongoDB Pasandole el host y el puerto\n",
    "\n",
    "client = MongoClient(\"mongodb+srv://ValRudas:<MINIONS2005.>@mryoongi.pbuzqpp.mongodb.net/prueba\")\n",
    "#db = client.test\n",
    "\n",
    "# Send a ping to confirm a successful connection\n",
    "try:\n",
    "    client.admin.command('ping')\n",
    "    print(\"Pinged your deployment. You successfully connected to MongoDB!\")\n",
    "except Exception as e:\n",
    "    print(e)\n",
    "\n",
    "db = client.Futbol\n",
    "\n",
    "collection = db.Futbolistas\n"
   ]
  },
  {
   "cell_type": "code",
   "execution_count": 6,
   "metadata": {},
   "outputs": [
    {
     "name": "stdout",
     "output_type": "stream",
     "text": [
      "Futbolistas insertados:  [ObjectId('643f5aa7a25946234c8eefd0'), ObjectId('643f5aa7a25946234c8eefd1'), ObjectId('643f5aa7a25946234c8eefd2'), ObjectId('643f5aa8a25946234c8eefd3'), ObjectId('643f5aa8a25946234c8eefd4'), ObjectId('643f5aa8a25946234c8eefd5'), ObjectId('643f5aa9a25946234c8eefd6'), ObjectId('643f5aa9a25946234c8eefd7'), ObjectId('643f5aa9a25946234c8eefd8'), ObjectId('643f5aaaa25946234c8eefd9'), ObjectId('643f5aaaa25946234c8eefda')]\n"
     ]
    }
   ],
   "source": [
    "# PASO 4.1: \"CREATE\" -> Metemos los objetos futbolista (o documentos en Mongo) en la coleccion Futbolista\n",
    "futbolistas_insertados = []\n",
    "for futbolista in futbolistas:\n",
    "    resultado = collection.insert_one(futbolista.toDBCollection())\n",
    "    futbolistas_insertados.append(resultado.inserted_id)\n",
    "#print(\"Futbolistas insertados: \", futbolistas_insertados)\n",
    "print(\"Futbolistas insertados: \", futbolistas_insertados)\n"
   ]
  },
  {
   "cell_type": "code",
   "execution_count": 7,
   "metadata": {},
   "outputs": [
    {
     "name": "stdout",
     "output_type": "stream",
     "text": [
      "Documento actualizado:  1\n"
     ]
    }
   ],
   "source": [
    "# Actualizar \n",
    "resultado  = collection.update_one({\"nombre\":\"Andrés\"}, {\"$set\": {\"nombre\":\"Andrés Juan\"}})\n",
    "\n",
    "print(\"Documento actualizado: \", resultado.modified_count)\n",
    "\n",
    "# Futbolista('Sergio','Ramos',28,True),\n",
    "#    Futbolista('Andrés','Iniesta',30,True),\n",
    "\n",
    "\n",
    "\n",
    "#Eliminar"
   ]
  },
  {
   "cell_type": "code",
   "execution_count": 8,
   "metadata": {},
   "outputs": [
    {
     "name": "stdout",
     "output_type": "stream",
     "text": [
      "{'_id': ObjectId('643d7af4212a0ef1d288eb96'), 'nombre': 'Carles', 'apellidos': 'Puyol', 'edad': 65, 'internacional': 1}\n",
      "{'_id': ObjectId('643d7af4212a0ef1d288eb97'), 'nombre': 'Sergio', 'apellidos': 'Ramos', 'edad': 28, 'internacional': True}\n",
      "{'_id': ObjectId('643d7af5212a0ef1d288eb98'), 'nombre': 'Andrés Juan', 'apellidos': 'Iniesta', 'edad': 30, 'internacional': True}\n",
      "{'_id': ObjectId('643d7af5212a0ef1d288eb99'), 'nombre': 'Fernando', 'apellidos': 'Torres', 'edad': 30, 'internacional': True}\n",
      "{'_id': ObjectId('643d8064b11171eb7c19d0a9'), 'nombre': 'Carles', 'apellidos': 'Puyol', 'edad': 36, 'internacional': 1}\n",
      "{'_id': ObjectId('643d8065b11171eb7c19d0aa'), 'nombre': 'Sergio', 'apellidos': 'Ramos', 'edad': 28, 'internacional': True}\n",
      "{'_id': ObjectId('643d8065b11171eb7c19d0ab'), 'nombre': 'Andrés Juan', 'apellidos': 'Iniesta', 'edad': 30, 'internacional': True}\n",
      "{'_id': ObjectId('643d8065b11171eb7c19d0ac'), 'nombre': 'Fernando', 'apellidos': 'Torres', 'edad': 30, 'internacional': True}\n",
      "{'_id': ObjectId('643d82fb212a0ef1d288eb9b'), 'nombre': 'Iker', 'apellidos': 'Casillas', 'edad': 33, 'internacional': True}\n",
      "{'_id': ObjectId('643d82fb212a0ef1d288eb9c'), 'nombre': 'Carles', 'apellidos': 'Puyol', 'edad': 36, 'internacional': False}\n",
      "{'_id': ObjectId('643d82fb212a0ef1d288eb9d'), 'nombre': 'Sergio', 'apellidos': 'Ramos', 'edad': 28, 'internacional': True}\n",
      "{'_id': ObjectId('643d82fc212a0ef1d288eb9e'), 'nombre': 'Andrés Juan', 'apellidos': 'Iniesta', 'edad': 30, 'internacional': True}\n",
      "{'_id': ObjectId('643d82fc212a0ef1d288eb9f'), 'nombre': 'Fernando', 'apellidos': 'Torres', 'edad': 30, 'internacional': True}\n",
      "{'_id': ObjectId('643d832b212a0ef1d288eba6'), 'nombre': 'Iker', 'apellidos': 'Casillas', 'edad': 33, 'internacional': True}\n",
      "{'_id': ObjectId('643d832c212a0ef1d288eba7'), 'nombre': 'Carles', 'apellidos': 'Puyol', 'edad': 36, 'internacional': False}\n",
      "{'_id': ObjectId('643d832c212a0ef1d288eba8'), 'nombre': 'Sergio', 'apellidos': 'Ramos', 'edad': 28, 'internacional': True}\n",
      "{'_id': ObjectId('643d832c212a0ef1d288eba9'), 'nombre': 'Andrés', 'apellidos': 'Iniesta', 'edad': 30, 'internacional': True}\n",
      "{'_id': ObjectId('643d832d212a0ef1d288ebaa'), 'nombre': 'Fernando', 'apellidos': 'Torres', 'edad': 30, 'internacional': True}\n",
      "{'_id': ObjectId('643f5aa7a25946234c8eefd0'), 'nombre': 'Iker', 'apellidos': 'Casillas', 'edad': 33, 'internacional': True}\n",
      "{'_id': ObjectId('643f5aa7a25946234c8eefd1'), 'nombre': 'Carles', 'apellidos': 'Puyol', 'edad': 36, 'internacional': False}\n",
      "{'_id': ObjectId('643f5aa7a25946234c8eefd2'), 'nombre': 'Sergio', 'apellidos': 'Ramos', 'edad': 28, 'internacional': True}\n",
      "{'_id': ObjectId('643f5aa8a25946234c8eefd3'), 'nombre': 'Andrés', 'apellidos': 'Iniesta', 'edad': 30, 'internacional': True}\n",
      "{'_id': ObjectId('643f5aa8a25946234c8eefd4'), 'nombre': 'Fernando', 'apellidos': 'Torres', 'edad': 30, 'internacional': True}\n",
      "{'_id': ObjectId('643f5aa8a25946234c8eefd5'), 'nombre': 'Leo', 'apellidos': 'Baptistao', 'edad': 22, 'internacional': False}\n",
      "{'_id': ObjectId('643f5aa9a25946234c8eefd6'), 'nombre': 'Juan', 'apellidos': 'Baptistao', 'edad': 22, 'internacional': False}\n",
      "{'_id': ObjectId('643f5aa9a25946234c8eefd7'), 'nombre': 'diego', 'apellidos': 'Baptistao', 'edad': 22, 'internacional': False}\n",
      "{'_id': ObjectId('643f5aa9a25946234c8eefd8'), 'nombre': 'camilo', 'apellidos': 'Baptistao', 'edad': 22, 'internacional': False}\n",
      "{'_id': ObjectId('643f5aaaa25946234c8eefd9'), 'nombre': 'Espin', 'apellidos': 'Baptistao', 'edad': 22, 'internacional': False}\n",
      "{'_id': ObjectId('643f5aaaa25946234c8eefda'), 'nombre': 'Diego', 'apellidos': 'Baptistao', 'edad': 22, 'internacional': False}\n"
     ]
    }
   ],
   "source": [
    "resultado = collection.find()\n",
    "\n",
    "for fut in resultado:\n",
    "    print(fut)"
   ]
  },
  {
   "cell_type": "code",
   "execution_count": 9,
   "metadata": {},
   "outputs": [
    {
     "name": "stdout",
     "output_type": "stream",
     "text": [
      "Se elimino el documento\n"
     ]
    }
   ],
   "source": [
    "resultado = collection.delete_one({\"nombre\": \"Iker\"})\n",
    "\n",
    "if resultado.deleted_count == 1:\n",
    "    print(\"Se elimino el documento\")\n",
    "else:\n",
    "    print(\"No se elimino el documento\")"
   ]
  },
  {
   "attachments": {},
   "cell_type": "markdown",
   "metadata": {},
   "source": []
  },
  {
   "cell_type": "code",
   "execution_count": 10,
   "metadata": {},
   "outputs": [
    {
     "name": "stdout",
     "output_type": "stream",
     "text": [
      "se actualziaron 6 documentos\n"
     ]
    }
   ],
   "source": [
    "resultado  = collection.update_many({\"nombre\": {\"$in\": [\"Iker\", \"Carles\"]}}, {\"$set\": {\"edad\": 65}})\n",
    "\n",
    "print (f\"se actualziaron {resultado.modified_count} documentos\")"
   ]
  },
  {
   "cell_type": "code",
   "execution_count": 11,
   "metadata": {},
   "outputs": [
    {
     "name": "stdout",
     "output_type": "stream",
     "text": [
      "No se elimino el documento\n"
     ]
    }
   ],
   "source": [
    "resultado = collection.delete_many({\"apellidos\": {\"$regex\":\"^B\"}})\n",
    "\n",
    "\n",
    "if resultado.deleted_count == 1:\n",
    "    print(\"Se elimino el documento\")\n",
    "else:\n",
    "    print(\"No se elimino el documento\")\n"
   ]
  },
  {
   "cell_type": "code",
   "execution_count": 12,
   "metadata": {},
   "outputs": [
    {
     "name": "stdout",
     "output_type": "stream",
     "text": [
      "Nombre: Iker - Apellidos: Casillas - Edad: 33 - Internacional: True\n"
     ]
    }
   ],
   "source": [
    "print(futbolistas[0])"
   ]
  },
  {
   "cell_type": "code",
   "execution_count": 13,
   "metadata": {},
   "outputs": [
    {
     "data": {
      "image/png": "[encoded data removed]",
      "text/plain": [
       "<Figure size 640x480 with 1 Axes>"
      ]
     },
     "metadata": {},
     "output_type": "display_data"
    }
   ],
   "source": [
    "import matplotlib.pyplot as plt\n",
    "\n",
    "# Lista de nombres y edades de los futbolistas\n",
    "nombres = [futbolista.nombre for futbolista in futbolistas]\n",
    "edades = [futbolista.edad for futbolista in futbolistas]\n",
    "\n",
    "# Crear un gráfico de barras\n",
    "plt.bar(nombres, edades)\n",
    "\n",
    "# Agregar etiquetas a los ejes\n",
    "plt.xlabel('Nombre')\n",
    "plt.ylabel('Edad')\n",
    "\n",
    "# Mostrar el gráfico\n",
    "plt.show()"
   ]
  },
  {
   "cell_type": "code",
   "execution_count": 14,
   "metadata": {},
   "outputs": [
    {
     "data": {
      "image/png": "[encoded data removed]",
      "text/plain": [
       "<Figure size 640x480 with 1 Axes>"
      ]
     },
     "metadata": {},
     "output_type": "display_data"
    }
   ],
   "source": [
    "import matplotlib.pyplot as plt\n",
    "import numpy as np\n",
    "\n",
    "# Query the collection to get the ages of all the players\n",
    "ages = collection.distinct('edad')\n",
    "\n",
    "# Count the number of players for each age\n",
    "counts = [collection.count_documents({'edad': age}) for age in ages]\n",
    "\n",
    "# Create a bar chart using Matplotlib\n",
    "plt.bar(ages, counts)\n",
    "plt.title('Number of players by age')\n",
    "plt.xlabel('Age')\n",
    "plt.ylabel('Count')\n",
    "plt.show()\n"
   ]
  },
  {
   "cell_type": "code",
   "execution_count": 15,
   "metadata": {},
   "outputs": [
    {
     "data": {
      "image/png": "[encoded data removed]",
      "text/plain": [
       "<Figure size 640x480 with 1 Axes>"
      ]
     },
     "metadata": {},
     "output_type": "display_data"
    }
   ],
   "source": [
    "import matplotlib.pyplot as plt\n",
    "\n",
    "# Count the number of international and non-international players\n",
    "num_international = collection.count_documents({'internacional': True})\n",
    "num_non_international = collection.count_documents({'internacional': False})\n",
    "\n",
    "# Create a pie chart using Matplotlib\n",
    "labels = ['International', 'Non-International']\n",
    "sizes = [num_international, num_non_international]\n",
    "explode = (0.1, 0)\n",
    "\n",
    "fig1, ax1 = plt.subplots()\n",
    "ax1.pie(sizes, explode=explode, labels=labels, autopct='%1.1f%%', startangle=90)\n",
    "ax1.axis('equal')\n",
    "\n",
    "plt.title('Percentage of international and non-international players')\n",
    "plt.show()\n"
   ]
  },
  {
   "cell_type": "code",
   "execution_count": 16,
   "metadata": {},
   "outputs": [
    {
     "data": {
      "image/png": "[encoded data removed]",
      "text/plain": [
       "<Figure size 640x480 with 1 Axes>"
      ]
     },
     "metadata": {},
     "output_type": "display_data"
    }
   ],
   "source": [
    "import matplotlib.pyplot as plt\n",
    "\n",
    "# Get the ages of all players in the collection\n",
    "ages = [futbolista[\"edad\"] for futbolista in collection.find()]\n",
    "\n",
    "\n",
    "\n",
    "# Create a histogram using Matplotlib\n",
    "plt.hist(ages, bins=10, color='green')\n",
    "\n",
    "plt.title('Distribution of player ages')\n",
    "plt.xlabel('Age')\n",
    "plt.ylabel('Frequency')\n",
    "\n",
    "plt.show()\n"
   ]
  },
  {
   "cell_type": "code",
   "execution_count": 18,
   "metadata": {},
   "outputs": [
    {
     "name": "stdout",
     "output_type": "stream",
     "text": [
      "Defaulting to user installation because normal site-packages is not writeable\n",
      "Collecting pandas\n",
      "  Downloading pandas-2.0.0-cp39-cp39-macosx_10_9_x86_64.whl (11.8 MB)\n",
      "\u001b[K     |████████████████████████████████| 11.8 MB 4.0 MB/s eta 0:00:01\n",
      "\u001b[?25hCollecting pytz>=2020.1\n",
      "  Downloading pytz-2023.3-py2.py3-none-any.whl (502 kB)\n",
      "\u001b[K     |████████████████████████████████| 502 kB 27.5 MB/s eta 0:00:01\n",
      "\u001b[?25hCollecting tzdata>=2022.1\n",
      "  Downloading tzdata-2023.3-py2.py3-none-any.whl (341 kB)\n",
      "\u001b[K     |████████████████████████████████| 341 kB 21.7 MB/s eta 0:00:01\n",
      "\u001b[?25hRequirement already satisfied: python-dateutil>=2.8.2 in /Users/giovannyhidalgo/Library/Python/3.9/lib/python/site-packages (from pandas) (2.8.2)\n",
      "Requirement already satisfied: numpy>=1.20.3 in /Users/giovannyhidalgo/Library/Python/3.9/lib/python/site-packages (from pandas) (1.24.2)\n",
      "Requirement already satisfied: six>=1.5 in /Library/Developer/CommandLineTools/Library/Frameworks/Python3.framework/Versions/3.9/lib/python3.9/site-packages (from python-dateutil>=2.8.2->pandas) (1.15.0)\n",
      "Installing collected packages: tzdata, pytz, pandas\n",
      "Successfully installed pandas-2.0.0 pytz-2023.3 tzdata-2023.3\n",
      "\u001b[33mWARNING: You are using pip version 21.2.4; however, version 23.1 is available.\n",
      "You should consider upgrading via the '/Library/Developer/CommandLineTools/usr/bin/python3 -m pip install --upgrade pip' command.\u001b[0m\n",
      "Note: you may need to restart the kernel to use updated packages.\n"
     ]
    }
   ],
   "source": [
    "pip install pandas"
   ]
  },
  {
   "cell_type": "code",
   "execution_count": 29,
   "metadata": {},
   "outputs": [
    {
     "name": "stdout",
     "output_type": "stream",
     "text": [
      "                         _id       nombre apellidos  edad internacional\n",
      "0   643d7af4212a0ef1d288eb96       Carles     Puyol    65             1\n",
      "1   643d7af4212a0ef1d288eb97       Sergio     Ramos    28          True\n",
      "2   643d7af5212a0ef1d288eb98  Andrés Juan   Iniesta    30          True\n",
      "3   643d7af5212a0ef1d288eb99     Fernando    Torres    30          True\n",
      "4   643d8064b11171eb7c19d0a9       Carles     Puyol    65             1\n",
      "5   643d8065b11171eb7c19d0aa       Sergio     Ramos    28          True\n",
      "6   643d8065b11171eb7c19d0ab  Andrés Juan   Iniesta    30          True\n",
      "7   643d8065b11171eb7c19d0ac     Fernando    Torres    30          True\n",
      "8   643d82fb212a0ef1d288eb9c       Carles     Puyol    65         False\n",
      "9   643d82fb212a0ef1d288eb9d       Sergio     Ramos    28          True\n",
      "10  643d82fc212a0ef1d288eb9e  Andrés Juan   Iniesta    30          True\n",
      "11  643d82fc212a0ef1d288eb9f     Fernando    Torres    30          True\n",
      "12  643d832b212a0ef1d288eba6         Iker  Casillas    65          True\n",
      "13  643d832c212a0ef1d288eba7       Carles     Puyol    65         False\n",
      "14  643d832c212a0ef1d288eba8       Sergio     Ramos    28          True\n",
      "15  643d832c212a0ef1d288eba9       Andrés   Iniesta    30          True\n",
      "16  643d832d212a0ef1d288ebaa     Fernando    Torres    30          True\n",
      "17  643f5aa7a25946234c8eefd0         Iker  Casillas    65          True\n",
      "18  643f5aa7a25946234c8eefd1       Carles     Puyol    65         False\n",
      "19  643f5aa7a25946234c8eefd2       Sergio     Ramos    28          True\n",
      "20  643f5aa8a25946234c8eefd3       Andrés   Iniesta    30          True\n",
      "21  643f5aa8a25946234c8eefd4     Fernando    Torres    30          True\n"
     ]
    }
   ],
   "source": [
    "import pandas as pd\n",
    "\n",
    "# Create a cursor to iterate over the collection\n",
    "resultado = collection.find()\n",
    "\n",
    "# Create a list to store the documents\n",
    "documentos = []\n",
    "\n",
    "# Iterate over the cursor and append the documents to the list\n",
    "for document in resultado:\n",
    "    documentos.append(document)\n",
    "\n",
    "# Create a DataFrame from the list of documents\n",
    "df = pd.DataFrame(documentos)\n",
    "\n",
    "# Print the DataFrame\n",
    "print(df)"
   ]
  },
  {
   "cell_type": "code",
   "execution_count": 22,
   "metadata": {},
   "outputs": [
    {
     "data": {
      "text/html": [
       "<div>\n",
       "<style scoped>\n",
       "    .dataframe tbody tr th:only-of-type {\n",
       "        vertical-align: middle;\n",
       "    }\n",
       "\n",
       "    .dataframe tbody tr th {\n",
       "        vertical-align: top;\n",
       "    }\n",
       "\n",
       "    .dataframe thead th {\n",
       "        text-align: right;\n",
       "    }\n",
       "</style>\n",
       "<table border=\"1\" class=\"dataframe\">\n",
       "  <thead>\n",
       "    <tr style=\"text-align: right;\">\n",
       "      <th></th>\n",
       "      <th>edad</th>\n",
       "    </tr>\n",
       "  </thead>\n",
       "  <tbody>\n",
       "    <tr>\n",
       "      <th>count</th>\n",
       "      <td>22.000000</td>\n",
       "    </tr>\n",
       "    <tr>\n",
       "      <th>mean</th>\n",
       "      <td>40.681818</td>\n",
       "    </tr>\n",
       "    <tr>\n",
       "      <th>std</th>\n",
       "      <td>17.022076</td>\n",
       "    </tr>\n",
       "    <tr>\n",
       "      <th>min</th>\n",
       "      <td>28.000000</td>\n",
       "    </tr>\n",
       "    <tr>\n",
       "      <th>25%</th>\n",
       "      <td>30.000000</td>\n",
       "    </tr>\n",
       "    <tr>\n",
       "      <th>50%</th>\n",
       "      <td>30.000000</td>\n",
       "    </tr>\n",
       "    <tr>\n",
       "      <th>75%</th>\n",
       "      <td>65.000000</td>\n",
       "    </tr>\n",
       "    <tr>\n",
       "      <th>max</th>\n",
       "      <td>65.000000</td>\n",
       "    </tr>\n",
       "  </tbody>\n",
       "</table>\n",
       "</div>"
      ],
      "text/plain": [
       "            edad\n",
       "count  22.000000\n",
       "mean   40.681818\n",
       "std    17.022076\n",
       "min    28.000000\n",
       "25%    30.000000\n",
       "50%    30.000000\n",
       "75%    65.000000\n",
       "max    65.000000"
      ]
     },
     "execution_count": 22,
     "metadata": {},
     "output_type": "execute_result"
    }
   ],
   "source": [
    "df.describe()"
   ]
  },
  {
   "cell_type": "code",
   "execution_count": 26,
   "metadata": {},
   "outputs": [],
   "source": [
    "df1 = df.drop_duplicates()\n"
   ]
  },
  {
   "cell_type": "code",
   "execution_count": 30,
   "metadata": {},
   "outputs": [
    {
     "data": {
      "text/html": [
       "<div>\n",
       "<style scoped>\n",
       "    .dataframe tbody tr th:only-of-type {\n",
       "        vertical-align: middle;\n",
       "    }\n",
       "\n",
       "    .dataframe tbody tr th {\n",
       "        vertical-align: top;\n",
       "    }\n",
       "\n",
       "    .dataframe thead th {\n",
       "        text-align: right;\n",
       "    }\n",
       "</style>\n",
       "<table border=\"1\" class=\"dataframe\">\n",
       "  <thead>\n",
       "    <tr style=\"text-align: right;\">\n",
       "      <th></th>\n",
       "      <th>_id</th>\n",
       "      <th>nombre</th>\n",
       "      <th>apellidos</th>\n",
       "      <th>edad</th>\n",
       "      <th>internacional</th>\n",
       "    </tr>\n",
       "  </thead>\n",
       "  <tbody>\n",
       "    <tr>\n",
       "      <th>0</th>\n",
       "      <td>643d7af4212a0ef1d288eb96</td>\n",
       "      <td>Carles</td>\n",
       "      <td>Puyol</td>\n",
       "      <td>65</td>\n",
       "      <td>1</td>\n",
       "    </tr>\n",
       "    <tr>\n",
       "      <th>1</th>\n",
       "      <td>643d7af4212a0ef1d288eb97</td>\n",
       "      <td>Sergio</td>\n",
       "      <td>Ramos</td>\n",
       "      <td>28</td>\n",
       "      <td>True</td>\n",
       "    </tr>\n",
       "    <tr>\n",
       "      <th>2</th>\n",
       "      <td>643d7af5212a0ef1d288eb98</td>\n",
       "      <td>Andrés Juan</td>\n",
       "      <td>Iniesta</td>\n",
       "      <td>30</td>\n",
       "      <td>True</td>\n",
       "    </tr>\n",
       "    <tr>\n",
       "      <th>3</th>\n",
       "      <td>643d7af5212a0ef1d288eb99</td>\n",
       "      <td>Fernando</td>\n",
       "      <td>Torres</td>\n",
       "      <td>30</td>\n",
       "      <td>True</td>\n",
       "    </tr>\n",
       "    <tr>\n",
       "      <th>12</th>\n",
       "      <td>643d832b212a0ef1d288eba6</td>\n",
       "      <td>Iker</td>\n",
       "      <td>Casillas</td>\n",
       "      <td>65</td>\n",
       "      <td>True</td>\n",
       "    </tr>\n",
       "    <tr>\n",
       "      <th>15</th>\n",
       "      <td>643d832c212a0ef1d288eba9</td>\n",
       "      <td>Andrés</td>\n",
       "      <td>Iniesta</td>\n",
       "      <td>30</td>\n",
       "      <td>True</td>\n",
       "    </tr>\n",
       "  </tbody>\n",
       "</table>\n",
       "</div>"
      ],
      "text/plain": [
       "                         _id       nombre apellidos  edad internacional\n",
       "0   643d7af4212a0ef1d288eb96       Carles     Puyol    65             1\n",
       "1   643d7af4212a0ef1d288eb97       Sergio     Ramos    28          True\n",
       "2   643d7af5212a0ef1d288eb98  Andrés Juan   Iniesta    30          True\n",
       "3   643d7af5212a0ef1d288eb99     Fernando    Torres    30          True\n",
       "12  643d832b212a0ef1d288eba6         Iker  Casillas    65          True\n",
       "15  643d832c212a0ef1d288eba9       Andrés   Iniesta    30          True"
      ]
     },
     "execution_count": 30,
     "metadata": {},
     "output_type": "execute_result"
    }
   ],
   "source": [
    "df = df.drop_duplicates(subset=['nombre'])\n",
    "df"
   ]
  },
  {
   "cell_type": "code",
   "execution_count": null,
   "metadata": {},
   "outputs": [],
   "source": []
  }
 ],
 "metadata": {
  "kernelspec": {
   "display_name": "Python 3",
   "language": "python",
   "name": "python3"
  },
  "language_info": {
   "codemirror_mode": {
    "name": "ipython",
    "version": 3
   },
   "file_extension": ".py",
   "mimetype": "text/x-python",
   "name": "python",
   "nbconvert_exporter": "python",
   "pygments_lexer": "ipython3",
   "version": "3.11.9"
  },
  "orig_nbformat": 4
 },
 "nbformat": 4,
 "nbformat_minor": 2
}
